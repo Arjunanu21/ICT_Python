{
  "nbformat": 4,
  "nbformat_minor": 0,
  "metadata": {
    "colab": {
      "provenance": []
    },
    "kernelspec": {
      "name": "python3",
      "display_name": "Python 3"
    },
    "language_info": {
      "name": "python"
    }
  },
  "cells": [
    {
      "cell_type": "code",
      "execution_count": 2,
      "metadata": {
        "id": "ZUbMkIFs6uD0"
      },
      "outputs": [],
      "source": [
        "#1.Write a Python Program to accept the details of a student like name, roll number and mark and display it."
      ]
    },
    {
      "cell_type": "code",
      "source": [
        "name = input('Enter the name: ')\n",
        "roll_num= input('Enter the roll number: ')\n",
        "mark= input('Enter the mark: ')\n",
        "print('Name: ',name)\n",
        "print('Roll No: ',roll_num)\n",
        "print('Mark: ',mark)"
      ],
      "metadata": {
        "colab": {
          "base_uri": "https://localhost:8080/"
        },
        "id": "ucQ1kKIs7x9m",
        "outputId": "10ddc311-46ed-4b29-fe56-158f54de9f5c"
      },
      "execution_count": 3,
      "outputs": [
        {
          "output_type": "stream",
          "name": "stdout",
          "text": [
            "Enter the name: Anisha\n",
            "Enter the roll number: 21\n",
            "Enter the mark: 78\n",
            "Name:  Anisha\n",
            "Roll No:  21\n",
            "Mark:  78\n"
          ]
        }
      ]
    },
    {
      "cell_type": "code",
      "source": [
        "#2. Write a Python program to convert temperatures to and from Celsius Fahrenheit. [Formula: c/5=f-32/9 where c=temperature in Celsius and f=temperature in Fahrenheit."
      ],
      "metadata": {
        "id": "5k5QLxH1811s"
      },
      "execution_count": 5,
      "outputs": []
    },
    {
      "cell_type": "code",
      "source": [
        "f= float(input('Enter temperature in Fahrenhiet= '))\n",
        "celsius= (f-32)*5/9\n",
        "print('Temperature in celsius= ',celsius)\n",
        "c= float(input('Enter temperature in Celsius= '))\n",
        "fahrenhiet= ((c*9)/5)+32\n",
        "print('Temperature in Fahrenhiet= ',fahrenhiet)\n"
      ],
      "metadata": {
        "colab": {
          "base_uri": "https://localhost:8080/"
        },
        "id": "0KB7cLn5-EAq",
        "outputId": "3dca2b5d-8309-4a76-c5af-bb8a53faeaf8"
      },
      "execution_count": 9,
      "outputs": [
        {
          "output_type": "stream",
          "name": "stdout",
          "text": [
            "Enter temperature in Fahrenhiet= 100\n",
            "Temperature in celsius=  37.77777777777778\n",
            "Enter temperature in Celsius= 37.778\n",
            "Temperature in Fahrenhiet=  100.0004\n"
          ]
        }
      ]
    },
    {
      "cell_type": "code",
      "source": [
        "#3.Write a Python program to accept two numbers from the user and display its product."
      ],
      "metadata": {
        "id": "MczpSXmdAHA_"
      },
      "execution_count": 10,
      "outputs": []
    },
    {
      "cell_type": "code",
      "source": [
        "num1= int(input('Enter the first number: '))\n",
        "num2= int(input('Enter the second number: '))\n",
        "product= num1*num2\n",
        "print('Product= ',product)"
      ],
      "metadata": {
        "colab": {
          "base_uri": "https://localhost:8080/"
        },
        "id": "6hDv9zH9BoS_",
        "outputId": "6fc75b34-3913-40a4-d531-c48f841a3c60"
      },
      "execution_count": 12,
      "outputs": [
        {
          "output_type": "stream",
          "name": "stdout",
          "text": [
            "Enter the first number: 5\n",
            "Enter the second number: 10\n",
            "Product=  50\n"
          ]
        }
      ]
    },
    {
      "cell_type": "code",
      "source": [
        "#4.Write a Python program to accept a string “Learn Python by Developing a Website” and display the string like “Learn**Python** by Developing a **Website**”\n"
      ],
      "metadata": {
        "id": "_vQIbJvvCCWX"
      },
      "execution_count": 14,
      "outputs": []
    },
    {
      "cell_type": "code",
      "source": [
        "string= input('Enter the string: ')\n",
        "print('Learn**Python** by Developing a **Website**')"
      ],
      "metadata": {
        "colab": {
          "base_uri": "https://localhost:8080/"
        },
        "id": "IpqJKfjiDlfC",
        "outputId": "7fa8fe40-b16d-49ed-86bf-aa9b71ce4b0b"
      },
      "execution_count": 15,
      "outputs": [
        {
          "output_type": "stream",
          "name": "stdout",
          "text": [
            "Enter the string: Learn Python by Developing a Website\n",
            "Learn**Python** by Developing a **Website**\n"
          ]
        }
      ]
    },
    {
      "cell_type": "code",
      "source": [
        "#5.Write a Python program to accept the radius of a circle and display its area."
      ],
      "metadata": {
        "id": "qkvZlOUJEClp"
      },
      "execution_count": 16,
      "outputs": []
    },
    {
      "cell_type": "code",
      "source": [
        "import math\n",
        "r=float(input('Enter the radius of circle: '))\n",
        "area= math.pi*r*r\n",
        "print('Area of the circle= ',area)"
      ],
      "metadata": {
        "colab": {
          "base_uri": "https://localhost:8080/"
        },
        "id": "zkRLFh5_E4Es",
        "outputId": "22675488-1795-4d7f-8216-bf610f66218c"
      },
      "execution_count": 19,
      "outputs": [
        {
          "output_type": "stream",
          "name": "stdout",
          "text": [
            "Enter the radius of circle: 10\n",
            "Area of the circle=  314.1592653589793\n"
          ]
        }
      ]
    },
    {
      "cell_type": "code",
      "source": [
        "#6.Python program to insert a number to any position in a list (Get the number to be inserted and position from the user)"
      ],
      "metadata": {
        "id": "eedvdUXSE_5W"
      },
      "execution_count": 20,
      "outputs": []
    },
    {
      "cell_type": "code",
      "source": [
        "l1 = [10,20,30,40,50]\n",
        "print(l1)\n",
        "num= int(input('Enter the number to be inserted in the list: '))\n",
        "pos= int(input('Enter the position where number should be inserted: '))\n",
        "l1.insert(pos,num)\n",
        "l1"
      ],
      "metadata": {
        "colab": {
          "base_uri": "https://localhost:8080/"
        },
        "id": "z9-kjhEQGEhc",
        "outputId": "dcb4d7db-76ff-4df0-8cc6-860e5c48538e"
      },
      "execution_count": 23,
      "outputs": [
        {
          "name": "stdout",
          "output_type": "stream",
          "text": [
            "[10, 20, 30, 40, 50]\n",
            "Enter the number to be inserted in the list: 25\n",
            "Enter the position where number should be inserted: 2\n"
          ]
        },
        {
          "output_type": "execute_result",
          "data": {
            "text/plain": [
              "[10, 20, 25, 30, 40, 50]"
            ]
          },
          "metadata": {},
          "execution_count": 23
        }
      ]
    },
    {
      "cell_type": "code",
      "source": [
        "#7.Write a program to rename a key city to a location in the following dictionary.sample_dict = { \"name\": \"John\", \"age\":5, \"salary\": 8000, \"city\": \"New York\"}"
      ],
      "metadata": {
        "id": "H-uLkKaTIcXp"
      },
      "execution_count": 24,
      "outputs": []
    },
    {
      "cell_type": "code",
      "source": [
        "d1= { \"name\": \"John\", \"age\":5, \"salary\": 8000, \"city\": \"New York\"}\n",
        "print(d1)\n",
        "d1['location']= d1['city']\n",
        "del d1['city']\n",
        "d1"
      ],
      "metadata": {
        "colab": {
          "base_uri": "https://localhost:8080/"
        },
        "id": "eYiR8lJzLUtF",
        "outputId": "a9ce76f6-b24c-4fbd-8964-618d79694d18"
      },
      "execution_count": 28,
      "outputs": [
        {
          "output_type": "stream",
          "name": "stdout",
          "text": [
            "{'name': 'John', 'age': 5, 'salary': 8000, 'city': 'New York'}\n"
          ]
        },
        {
          "output_type": "execute_result",
          "data": {
            "text/plain": [
              "{'name': 'John', 'age': 5, 'salary': 8000, 'location': 'New York'}"
            ]
          },
          "metadata": {},
          "execution_count": 28
        }
      ]
    },
    {
      "cell_type": "code",
      "source": [
        "#8.Write a Python program to change Brad’s salary to 8500 in the following dictionary.\n"
      ],
      "metadata": {
        "id": "sR8iFNOqMj2i"
      },
      "execution_count": 30,
      "outputs": []
    },
    {
      "cell_type": "code",
      "source": [
        "dict = {\n",
        "'emp1': {'name': 'John', 'salary': 7500},\n",
        "'emp2': {'name': 'Emma', 'salary': 8000},\n",
        "'emp3': {'name': 'Brad', 'salary': 500}\n",
        "}\n",
        "dict['emp3']['salary']= 8500\n",
        "dict"
      ],
      "metadata": {
        "colab": {
          "base_uri": "https://localhost:8080/"
        },
        "id": "Wpe75XEWNrFK",
        "outputId": "3c62791b-0384-481b-f8f5-c929fd7b2959"
      },
      "execution_count": 33,
      "outputs": [
        {
          "output_type": "execute_result",
          "data": {
            "text/plain": [
              "{'emp1': {'name': 'John', 'salary': 7500},\n",
              " 'emp2': {'name': 'Emma', 'salary': 8000},\n",
              " 'emp3': {'name': 'Brad', 'salary': 8500}}"
            ]
          },
          "metadata": {},
          "execution_count": 33
        }
      ]
    },
    {
      "cell_type": "code",
      "source": [
        "#9.Write a program to copy elements 43 and 54 from the following tuple into a new tuple. Given:tuple1 = (10, 20, 43, 54, 56, 68)"
      ],
      "metadata": {
        "id": "XL9gxTDIOdme"
      },
      "execution_count": 34,
      "outputs": []
    },
    {
      "cell_type": "code",
      "source": [
        "t1 = (10, 20, 43, 54, 56, 68)\n",
        "t2= t1[2:4]\n",
        "print(t1)\n",
        "print('New tuple=',t2)"
      ],
      "metadata": {
        "colab": {
          "base_uri": "https://localhost:8080/"
        },
        "id": "kpuHUp7wPcr8",
        "outputId": "df855d44-cf67-4672-f583-125fa3612b2a"
      },
      "execution_count": 38,
      "outputs": [
        {
          "output_type": "stream",
          "name": "stdout",
          "text": [
            "(10, 20, 43, 54, 56, 68)\n",
            "New tuple= (43, 54)\n"
          ]
        }
      ]
    },
    {
      "cell_type": "code",
      "source": [
        "#10.Counts the number of occurrences of item 50 from a tuple tuple1 = (50, 10, 60, 70, 50,83,567,50,81)"
      ],
      "metadata": {
        "id": "DiW-jX9gQ6lS"
      },
      "execution_count": 39,
      "outputs": []
    },
    {
      "cell_type": "code",
      "source": [
        "t1 = (50, 10, 60, 70, 50,83,567,50,81)\n",
        "count= t1.count(50)\n",
        "print('No of occurrences of item 50 = ', count)"
      ],
      "metadata": {
        "colab": {
          "base_uri": "https://localhost:8080/"
        },
        "id": "RItqBwE6SAE-",
        "outputId": "0ec9beee-8c04-4708-f546-805605b9d832"
      },
      "execution_count": 40,
      "outputs": [
        {
          "output_type": "stream",
          "name": "stdout",
          "text": [
            "No of occurrences of item 50 =  3\n"
          ]
        }
      ]
    },
    {
      "cell_type": "code",
      "source": [],
      "metadata": {
        "id": "fs-aZXSQSas4"
      },
      "execution_count": null,
      "outputs": []
    }
  ]
}